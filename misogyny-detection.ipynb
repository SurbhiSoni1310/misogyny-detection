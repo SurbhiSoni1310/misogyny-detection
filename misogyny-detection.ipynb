{
 "cells": [
  {
   "cell_type": "code",
   "execution_count": 1,
   "metadata": {
    "colab": {
     "base_uri": "https://localhost:8080/"
    },
    "execution": {
     "iopub.execute_input": "2023-04-27T19:30:04.728499Z",
     "iopub.status.busy": "2023-04-27T19:30:04.728001Z",
     "iopub.status.idle": "2023-04-27T19:30:26.558852Z",
     "shell.execute_reply": "2023-04-27T19:30:26.557611Z",
     "shell.execute_reply.started": "2023-04-27T19:30:04.728458Z"
    },
    "id": "qroSNsD038-m",
    "outputId": "12984bcc-a2b0-438b-fd0e-5d0617d4951d",
    "trusted": true
   },
   "outputs": [
    {
     "name": "stdout",
     "output_type": "stream",
     "text": [
      "Requirement already satisfied: keras in c:\\users\\91951\\appdata\\local\\programs\\python\\python311\\lib\\site-packages (3.6.0)\n",
      "Requirement already satisfied: absl-py in c:\\users\\91951\\appdata\\local\\programs\\python\\python311\\lib\\site-packages (from keras) (2.1.0)\n",
      "Requirement already satisfied: numpy in c:\\users\\91951\\appdata\\local\\programs\\python\\python311\\lib\\site-packages (from keras) (1.26.2)\n",
      "Requirement already satisfied: rich in c:\\users\\91951\\appdata\\local\\programs\\python\\python311\\lib\\site-packages (from keras) (13.9.4)\n",
      "Requirement already satisfied: namex in c:\\users\\91951\\appdata\\local\\programs\\python\\python311\\lib\\site-packages (from keras) (0.0.8)\n",
      "Requirement already satisfied: h5py in c:\\users\\91951\\appdata\\local\\programs\\python\\python311\\lib\\site-packages (from keras) (3.12.1)\n",
      "Requirement already satisfied: optree in c:\\users\\91951\\appdata\\local\\programs\\python\\python311\\lib\\site-packages (from keras) (0.13.0)\n",
      "Requirement already satisfied: ml-dtypes in c:\\users\\91951\\appdata\\local\\programs\\python\\python311\\lib\\site-packages (from keras) (0.4.1)\n",
      "Requirement already satisfied: packaging in c:\\users\\91951\\appdata\\local\\programs\\python\\python311\\lib\\site-packages (from keras) (23.2)\n",
      "Requirement already satisfied: typing-extensions>=4.5.0 in c:\\users\\91951\\appdata\\local\\programs\\python\\python311\\lib\\site-packages (from optree->keras) (4.10.0)\n",
      "Requirement already satisfied: markdown-it-py>=2.2.0 in c:\\users\\91951\\appdata\\local\\programs\\python\\python311\\lib\\site-packages (from rich->keras) (3.0.0)\n",
      "Requirement already satisfied: pygments<3.0.0,>=2.13.0 in c:\\users\\91951\\appdata\\roaming\\python\\python311\\site-packages (from rich->keras) (2.17.2)\n",
      "Requirement already satisfied: mdurl~=0.1 in c:\\users\\91951\\appdata\\local\\programs\\python\\python311\\lib\\site-packages (from markdown-it-py>=2.2.0->rich->keras) (0.1.2)\n",
      "Note: you may need to restart the kernel to use updated packages.\n"
     ]
    },
    {
     "name": "stderr",
     "output_type": "stream",
     "text": [
      "\n",
      "[notice] A new release of pip is available: 23.2.1 -> 24.3.1\n",
      "[notice] To update, run: python.exe -m pip install --upgrade pip\n"
     ]
    },
    {
     "name": "stdout",
     "output_type": "stream",
     "text": [
      "Requirement already satisfied: contractions in c:\\users\\91951\\appdata\\local\\programs\\python\\python311\\lib\\site-packages (0.1.73)Note: you may need to restart the kernel to use updated packages.\n",
      "\n",
      "Requirement already satisfied: textsearch>=0.0.21 in c:\\users\\91951\\appdata\\local\\programs\\python\\python311\\lib\\site-packages (from contractions) (0.0.24)\n",
      "Requirement already satisfied: anyascii in c:\\users\\91951\\appdata\\local\\programs\\python\\python311\\lib\\site-packages (from textsearch>=0.0.21->contractions) (0.3.2)\n",
      "Requirement already satisfied: pyahocorasick in c:\\users\\91951\\appdata\\local\\programs\\python\\python311\\lib\\site-packages (from textsearch>=0.0.21->contractions) (2.1.0)\n"
     ]
    },
    {
     "name": "stderr",
     "output_type": "stream",
     "text": [
      "\n",
      "[notice] A new release of pip is available: 23.2.1 -> 24.3.1\n",
      "[notice] To update, run: python.exe -m pip install --upgrade pip\n"
     ]
    }
   ],
   "source": [
    "%pip install keras\n",
    "%pip install contractions"
   ]
  },
  {
   "cell_type": "code",
   "execution_count": 2,
   "metadata": {
    "colab": {
     "base_uri": "https://localhost:8080/"
    },
    "execution": {
     "iopub.execute_input": "2023-04-27T19:30:26.562133Z",
     "iopub.status.busy": "2023-04-27T19:30:26.561399Z",
     "iopub.status.idle": "2023-04-27T19:30:36.716845Z",
     "shell.execute_reply": "2023-04-27T19:30:36.715382Z",
     "shell.execute_reply.started": "2023-04-27T19:30:26.562086Z"
    },
    "id": "7mrtCy4vlQES",
    "outputId": "ffb01808-f319-4190-8b2c-35242f50ee8a",
    "trusted": true
   },
   "outputs": [
    {
     "name": "stdout",
     "output_type": "stream",
     "text": [
      "Requirement already satisfied: transformers in c:\\users\\91951\\appdata\\local\\programs\\python\\python311\\lib\\site-packages (4.39.0)\n",
      "Requirement already satisfied: filelock in c:\\users\\91951\\appdata\\local\\programs\\python\\python311\\lib\\site-packages (from transformers) (3.13.1)\n",
      "Requirement already satisfied: huggingface-hub<1.0,>=0.19.3 in c:\\users\\91951\\appdata\\local\\programs\\python\\python311\\lib\\site-packages (from transformers) (0.21.4)\n",
      "Requirement already satisfied: numpy>=1.17 in c:\\users\\91951\\appdata\\local\\programs\\python\\python311\\lib\\site-packages (from transformers) (1.26.2)\n",
      "Requirement already satisfied: packaging>=20.0 in c:\\users\\91951\\appdata\\local\\programs\\python\\python311\\lib\\site-packages (from transformers) (23.2)\n",
      "Requirement already satisfied: pyyaml>=5.1 in c:\\users\\91951\\appdata\\local\\programs\\python\\python311\\lib\\site-packages (from transformers) (6.0.1)\n",
      "Requirement already satisfied: regex!=2019.12.17 in c:\\users\\91951\\appdata\\local\\programs\\python\\python311\\lib\\site-packages (from transformers) (2023.12.25)\n",
      "Requirement already satisfied: requests in c:\\users\\91951\\appdata\\local\\programs\\python\\python311\\lib\\site-packages (from transformers) (2.31.0)\n",
      "Requirement already satisfied: tokenizers<0.19,>=0.14 in c:\\users\\91951\\appdata\\local\\programs\\python\\python311\\lib\\site-packages (from transformers) (0.15.2)\n",
      "Requirement already satisfied: safetensors>=0.4.1 in c:\\users\\91951\\appdata\\local\\programs\\python\\python311\\lib\\site-packages (from transformers) (0.4.2)\n",
      "Requirement already satisfied: tqdm>=4.27 in c:\\users\\91951\\appdata\\local\\programs\\python\\python311\\lib\\site-packages (from transformers) (4.66.2)\n",
      "Requirement already satisfied: fsspec>=2023.5.0 in c:\\users\\91951\\appdata\\local\\programs\\python\\python311\\lib\\site-packages (from huggingface-hub<1.0,>=0.19.3->transformers) (2024.3.1)\n",
      "Requirement already satisfied: typing-extensions>=3.7.4.3 in c:\\users\\91951\\appdata\\local\\programs\\python\\python311\\lib\\site-packages (from huggingface-hub<1.0,>=0.19.3->transformers) (4.10.0)\n",
      "Requirement already satisfied: colorama in c:\\users\\91951\\appdata\\local\\programs\\python\\python311\\lib\\site-packages (from tqdm>=4.27->transformers) (0.4.6)\n",
      "Requirement already satisfied: charset-normalizer<4,>=2 in c:\\users\\91951\\appdata\\local\\programs\\python\\python311\\lib\\site-packages (from requests->transformers) (3.2.0)\n",
      "Requirement already satisfied: idna<4,>=2.5 in c:\\users\\91951\\appdata\\local\\programs\\python\\python311\\lib\\site-packages (from requests->transformers) (3.4)\n",
      "Requirement already satisfied: urllib3<3,>=1.21.1 in c:\\users\\91951\\appdata\\local\\programs\\python\\python311\\lib\\site-packages (from requests->transformers) (1.26.16)\n",
      "Requirement already satisfied: certifi>=2017.4.17 in c:\\users\\91951\\appdata\\local\\programs\\python\\python311\\lib\\site-packages (from requests->transformers) (2023.7.22)\n",
      "Note: you may need to restart the kernel to use updated packages.\n"
     ]
    },
    {
     "name": "stderr",
     "output_type": "stream",
     "text": [
      "\n",
      "[notice] A new release of pip is available: 23.2.1 -> 24.3.1\n",
      "[notice] To update, run: python.exe -m pip install --upgrade pip\n"
     ]
    }
   ],
   "source": [
    "%pip install transformers\n"
   ]
  },
  {
   "cell_type": "markdown",
   "metadata": {
    "id": "SMynkTV13qzM"
   },
   "source": [
    "# Tools & libraries"
   ]
  },
  {
   "cell_type": "code",
   "execution_count": 3,
   "metadata": {
    "colab": {
     "base_uri": "https://localhost:8080/"
    },
    "execution": {
     "iopub.execute_input": "2023-04-27T19:30:36.719331Z",
     "iopub.status.busy": "2023-04-27T19:30:36.718650Z",
     "iopub.status.idle": "2023-04-27T19:30:46.186985Z",
     "shell.execute_reply": "2023-04-27T19:30:46.185917Z",
     "shell.execute_reply.started": "2023-04-27T19:30:36.719290Z"
    },
    "id": "JibJDWl93qzN",
    "outputId": "790a9222-ff6d-4786-8caf-1b978aae8cf8",
    "trusted": true
   },
   "outputs": [
    {
     "name": "stderr",
     "output_type": "stream",
     "text": [
      "[nltk_data] Downloading package punkt to\n",
      "[nltk_data]     C:\\Users\\91951\\AppData\\Roaming\\nltk_data...\n",
      "[nltk_data]   Package punkt is already up-to-date!\n",
      "[nltk_data] Downloading package stopwords to\n",
      "[nltk_data]     C:\\Users\\91951\\AppData\\Roaming\\nltk_data...\n",
      "[nltk_data]   Package stopwords is already up-to-date!\n"
     ]
    }
   ],
   "source": [
    "import numpy as np \n",
    "import pandas as pd \n",
    "import os\n",
    "import re\n",
    "import csv\n",
    "import nltk\n",
    "nltk.download('punkt')\n",
    "nltk.download('stopwords')\n",
    "import matplotlib.pyplot as plt\n",
    "from tensorflow.keras.preprocessing.text import Tokenizer\n",
    "from tensorflow.keras.preprocessing.sequence import pad_sequences\n",
    "from keras.models import Sequential\n",
    "from keras.layers import Dense, Embedding, GRU, LSTM, Bidirectional\n",
    "from tensorflow.keras.layers import Embedding\n",
    "from keras.initializers import Constant\n",
    "from keras.callbacks import ModelCheckpoint\n",
    "from keras.models import load_model\n",
    "import contractions\n",
    "import warnings "
   ]
  },
  {
   "cell_type": "markdown",
   "metadata": {
    "id": "gmp9vnK63qzP"
   },
   "source": [
    "# Get the data"
   ]
  },
  {
   "cell_type": "code",
   "execution_count": 4,
   "metadata": {
    "colab": {
     "base_uri": "https://localhost:8080/",
     "height": 206
    },
    "execution": {
     "iopub.execute_input": "2023-04-27T19:30:46.190095Z",
     "iopub.status.busy": "2023-04-27T19:30:46.189487Z",
     "iopub.status.idle": "2023-04-27T19:30:46.282845Z",
     "shell.execute_reply": "2023-04-27T19:30:46.281816Z",
     "shell.execute_reply.started": "2023-04-27T19:30:46.190062Z"
    },
    "id": "QMIQjoR73qzP",
    "outputId": "8fa3cc7e-8684-4652-a857-5237f266cacc",
    "trusted": true
   },
   "outputs": [
    {
     "data": {
      "text/html": [
       "<div>\n",
       "<style scoped>\n",
       "    .dataframe tbody tr th:only-of-type {\n",
       "        vertical-align: middle;\n",
       "    }\n",
       "\n",
       "    .dataframe tbody tr th {\n",
       "        vertical-align: top;\n",
       "    }\n",
       "\n",
       "    .dataframe thead th {\n",
       "        text-align: right;\n",
       "    }\n",
       "</style>\n",
       "<table border=\"1\" class=\"dataframe\">\n",
       "  <thead>\n",
       "    <tr style=\"text-align: right;\">\n",
       "      <th></th>\n",
       "      <th>id</th>\n",
       "      <th>dataset</th>\n",
       "      <th>text</th>\n",
       "      <th>toxicity</th>\n",
       "      <th>sexist</th>\n",
       "      <th>of_id</th>\n",
       "    </tr>\n",
       "  </thead>\n",
       "  <tbody>\n",
       "    <tr>\n",
       "      <th>0</th>\n",
       "      <td>0</td>\n",
       "      <td>other</td>\n",
       "      <td>MENTION3481 i didn't even know random was an o...</td>\n",
       "      <td>0.118180</td>\n",
       "      <td>False</td>\n",
       "      <td>-1</td>\n",
       "    </tr>\n",
       "    <tr>\n",
       "      <th>1</th>\n",
       "      <td>1</td>\n",
       "      <td>other</td>\n",
       "      <td>Bottom two should've gone!  #mkr</td>\n",
       "      <td>0.251850</td>\n",
       "      <td>False</td>\n",
       "      <td>-1</td>\n",
       "    </tr>\n",
       "    <tr>\n",
       "      <th>2</th>\n",
       "      <td>2</td>\n",
       "      <td>callme</td>\n",
       "      <td>MENTION3111 MENTION3424 ladyboner deserves so ...</td>\n",
       "      <td>0.113331</td>\n",
       "      <td>False</td>\n",
       "      <td>-1</td>\n",
       "    </tr>\n",
       "    <tr>\n",
       "      <th>3</th>\n",
       "      <td>3</td>\n",
       "      <td>other</td>\n",
       "      <td>She shall now be known as Sourpuss #MKR #KatAn...</td>\n",
       "      <td>0.531153</td>\n",
       "      <td>False</td>\n",
       "      <td>-1</td>\n",
       "    </tr>\n",
       "    <tr>\n",
       "      <th>4</th>\n",
       "      <td>4</td>\n",
       "      <td>other</td>\n",
       "      <td>Tarah W threw a bunch of women under the bus s...</td>\n",
       "      <td>0.118718</td>\n",
       "      <td>False</td>\n",
       "      <td>-1</td>\n",
       "    </tr>\n",
       "  </tbody>\n",
       "</table>\n",
       "</div>"
      ],
      "text/plain": [
       "   id dataset                                               text  toxicity  \\\n",
       "0   0   other  MENTION3481 i didn't even know random was an o...  0.118180   \n",
       "1   1   other                   Bottom two should've gone!  #mkr  0.251850   \n",
       "2   2  callme  MENTION3111 MENTION3424 ladyboner deserves so ...  0.113331   \n",
       "3   3   other  She shall now be known as Sourpuss #MKR #KatAn...  0.531153   \n",
       "4   4   other  Tarah W threw a bunch of women under the bus s...  0.118718   \n",
       "\n",
       "   sexist  of_id  \n",
       "0   False     -1  \n",
       "1   False     -1  \n",
       "2   False     -1  \n",
       "3   False     -1  \n",
       "4   False     -1  "
      ]
     },
     "execution_count": 4,
     "metadata": {},
     "output_type": "execute_result"
    }
   ],
   "source": [
    "data = pd.read_csv(\"C:\\\\Users\\\\91951\\\\Downloads\\\\Misogyny-Detection-main\\\\Misogyny-Detection-main\\\\sexism_data.csv\")\n",
    "data.head()"
   ]
  },
  {
   "cell_type": "code",
   "execution_count": 5,
   "metadata": {
    "colab": {
     "base_uri": "https://localhost:8080/"
    },
    "execution": {
     "iopub.execute_input": "2023-04-27T19:30:46.284856Z",
     "iopub.status.busy": "2023-04-27T19:30:46.284463Z",
     "iopub.status.idle": "2023-04-27T19:30:46.297695Z",
     "shell.execute_reply": "2023-04-27T19:30:46.296711Z",
     "shell.execute_reply.started": "2023-04-27T19:30:46.284815Z"
    },
    "id": "PtnEsO60LCPX",
    "outputId": "9a655338-6f27-4920-dddf-09dda91ca23d",
    "trusted": true
   },
   "outputs": [
    {
     "name": "stdout",
     "output_type": "stream",
     "text": [
      "sexist\n",
      "False    11822\n",
      "True      1809\n",
      "Name: count, dtype: int64\n"
     ]
    }
   ],
   "source": [
    "print(data['sexist'].value_counts())"
   ]
  },
  {
   "cell_type": "markdown",
   "metadata": {
    "id": "npGKYtmS3qzP"
   },
   "source": [
    "# Clean the data"
   ]
  },
  {
   "cell_type": "code",
   "execution_count": 6,
   "metadata": {
    "execution": {
     "iopub.execute_input": "2023-04-27T19:30:46.299479Z",
     "iopub.status.busy": "2023-04-27T19:30:46.298973Z",
     "iopub.status.idle": "2023-04-27T19:30:46.313863Z",
     "shell.execute_reply": "2023-04-27T19:30:46.312813Z",
     "shell.execute_reply.started": "2023-04-27T19:30:46.299441Z"
    },
    "id": "9g0e4qeI3qzP",
    "trusted": true
   },
   "outputs": [],
   "source": [
    "def clean_text(text):\n",
    "    text = text.lower()#convert the text to lower\n",
    "    \n",
    "    pattern = re.compile('http[s]?://(?:[a-zA-Z]|[0-9]|[$-_@.&+]|[!*\\(\\),]|(?:%[0-9a-fA-F][0-9a-fA-F]))+')#remove urls\n",
    "    text = pattern.sub('', text)\n",
    "    text = \" \".join(filter(lambda x:x[0]!='@', text.split()))#remove account handles\n",
    "    emoji = re.compile(\"[\"\n",
    "                           u\"\\U0001F600-\\U0001FFFF\"  # emoticons\n",
    "                           u\"\\U0001F300-\\U0001F5FF\"  # symbols & pictographs\n",
    "                           u\"\\U0001F680-\\U0001F6FF\"  # transport & map symbols\n",
    "                           u\"\\U0001F1E0-\\U0001F1FF\"  # flags (iOS)\n",
    "                           u\"\\U00002702-\\U000027B0\"\n",
    "                           u\"\\U000024C2-\\U0001F251\"\n",
    "                           \"]+\", flags=re.UNICODE)\n",
    "    \n",
    "    text = emoji.sub(r'', text)\n",
    "    text = text.lower()\n",
    "\n",
    "    text = re.sub(r\"im\", \"i'm\", text)\n",
    "    text = re.sub(r\"hes\", \"he's\", text)\n",
    "    text = re.sub(r\"shes\", \"she's\", text)\n",
    "    text = re.sub(r\"thats\", \"that's\", text)        \n",
    "    text = re.sub(r\"whats\", \"what's\", text)\n",
    "    text = re.sub(r\"wheres\", \"where's\", text) \n",
    "    text = re.sub(r\"\\'ll\", \" will\", text)  \n",
    "    text = re.sub(r\"\\'ve\", \" have\", text)  \n",
    "    text = re.sub(r\"\\'re\", \" are\", text)\n",
    "    text = re.sub(r\"\\'d\", \" would\", text)\n",
    "    text = re.sub(r\"\\'ve\", \" have\", text)\n",
    "    text = re.sub(r\"wont\", \"won't\", text)\n",
    "    text = re.sub(r\"dont\", \"don't\", text)\n",
    "    text = re.sub(r\"didnt\", \"didn't\", text)\n",
    "    text = re.sub(r\"cant\", \"can't\", text)\n",
    "    text = re.sub(r\"its\", \"it's\", text)\n",
    "    text = re.sub(r\"couldnt\", \"couldn't\", text)\n",
    "    text = re.sub(r\"havent\", \"haven't\", text)\n",
    "    text = re.sub(r\"shouldnt\", \"shouldn't\", text)\n",
    "    text = contractions.fix(text)\n",
    "    text = re.sub(r\"[,.\\\"\\'!@#$%^&*(){}?/;`~:<>+=-]\", \"\", text)\n",
    "    return text"
   ]
  },
  {
   "cell_type": "markdown",
   "metadata": {
    "id": "fY7o-fdCrELy"
   },
   "source": [
    "# Tokenization"
   ]
  },
  {
   "cell_type": "code",
   "execution_count": 7,
   "metadata": {
    "colab": {
     "base_uri": "https://localhost:8080/"
    },
    "execution": {
     "iopub.execute_input": "2023-04-27T19:30:46.315494Z",
     "iopub.status.busy": "2023-04-27T19:30:46.315134Z",
     "iopub.status.idle": "2023-04-27T19:30:51.316188Z",
     "shell.execute_reply": "2023-04-27T19:30:51.314988Z",
     "shell.execute_reply.started": "2023-04-27T19:30:46.315460Z"
    },
    "id": "QH4ZwSJ43qzP",
    "outputId": "2e8946bc-3f38-4555-c139-f457536f2aeb",
    "trusted": true
   },
   "outputs": [
    {
     "data": {
      "text/plain": [
       "[['even', 'know', 'random', 'option'],\n",
       " ['bottom', 'two', 'gone', 'mkr'],\n",
       " ['ladyboner',\n",
       "  'deserves',\n",
       "  'much',\n",
       "  'credit',\n",
       "  'dudeboner',\n",
       "  'bonerdebate',\n",
       "  'reddetails'],\n",
       " ['shall', 'known', 'sourpuss', 'mkr', 'katandre', 'failedfoodies'],\n",
       " ['tarah',\n",
       "  'w',\n",
       "  'threw',\n",
       "  'bunch',\n",
       "  'women',\n",
       "  'bus',\n",
       "  'could',\n",
       "  'get',\n",
       "  'wadhwas',\n",
       "  'support',\n",
       "  'women',\n",
       "  'tech',\n",
       "  'book'],\n",
       " ['trust', 'adult', 'uses', 'coupons'],\n",
       " ['mkr'],\n",
       " ['returns',\n",
       "  'couples',\n",
       "  'intruders',\n",
       "  'gate',\n",
       "  'crashers',\n",
       "  'secondchancers',\n",
       "  'eliminated',\n",
       "  'mkr'],\n",
       " ['abuse', 'comes', 'gamergate', 'accounts', 'days', 'old'],\n",
       " ['great',\n",
       "  'see',\n",
       "  'local',\n",
       "  'national',\n",
       "  'park',\n",
       "  'workers',\n",
       "  'tucking',\n",
       "  'free',\n",
       "  'feed',\n",
       "  'empty',\n",
       "  'loos',\n",
       "  'instead',\n",
       "  'mkr']]"
      ]
     },
     "execution_count": 7,
     "metadata": {},
     "output_type": "execute_result"
    }
   ],
   "source": [
    "import string\n",
    "from nltk.tokenize import word_tokenize\n",
    "from nltk.corpus import stopwords\n",
    "\n",
    "def CleanTokenize(data):\n",
    "    head_lines = list()\n",
    "    lines = data[\"text\"].values.tolist()\n",
    "\n",
    "    for line in lines:\n",
    "        line = clean_text(line)\n",
    "        # tokenize the text\n",
    "        tokens = word_tokenize(line)\n",
    "        # remove puntuations\n",
    "        table = str.maketrans('', '', string.punctuation)\n",
    "        stripped = [w.translate(table) for w in tokens]\n",
    "        # remove non alphabetic characters\n",
    "        words = [word for word in stripped if word.isalpha()]\n",
    "        stop_words = set(stopwords.words(\"english\"))\n",
    "        # remove stop words\n",
    "        words = [w for w in words if not w in stop_words]\n",
    "        head_lines.append(words)\n",
    "    return head_lines\n",
    "\n",
    "head_lines = CleanTokenize(data)\n",
    "head_lines[0:10]"
   ]
  },
  {
   "cell_type": "markdown",
   "metadata": {
    "id": "9Avj1mh4rHyT"
   },
   "source": [
    "# Adding POS tags to the generated tokens "
   ]
  },
  {
   "cell_type": "code",
   "execution_count": 8,
   "metadata": {
    "colab": {
     "base_uri": "https://localhost:8080/"
    },
    "execution": {
     "iopub.execute_input": "2023-04-27T19:30:51.318555Z",
     "iopub.status.busy": "2023-04-27T19:30:51.317655Z",
     "iopub.status.idle": "2023-04-27T19:30:58.684015Z",
     "shell.execute_reply": "2023-04-27T19:30:58.682733Z",
     "shell.execute_reply.started": "2023-04-27T19:30:51.318507Z"
    },
    "id": "ymnkbp1cp0PY",
    "outputId": "78bca433-fb81-4836-fcc9-6b7f9a57527c",
    "trusted": true
   },
   "outputs": [
    {
     "name": "stderr",
     "output_type": "stream",
     "text": [
      "[nltk_data] Downloading package punkt to\n",
      "[nltk_data]     C:\\Users\\91951\\AppData\\Roaming\\nltk_data...\n",
      "[nltk_data]   Package punkt is already up-to-date!\n",
      "[nltk_data] Downloading package averaged_perceptron_tagger to\n",
      "[nltk_data]     C:\\Users\\91951\\AppData\\Roaming\\nltk_data...\n",
      "[nltk_data]   Package averaged_perceptron_tagger is already up-to-\n",
      "[nltk_data]       date!\n"
     ]
    },
    {
     "name": "stdout",
     "output_type": "stream",
     "text": [
      "[[('even', 'RB'), ('know', 'VBP'), ('random', 'NN'), ('option', 'NN')], [('bottom', 'NN'), ('two', 'CD'), ('gone', 'VBN'), ('mkr', 'NN')], [('ladyboner', 'NN'), ('deserves', 'NNS'), ('much', 'JJ'), ('credit', 'NN'), ('dudeboner', 'NN'), ('bonerdebate', 'NN'), ('reddetails', 'NNS')], [('shall', 'MD'), ('known', 'VBN'), ('sourpuss', 'VB'), ('mkr', 'JJ'), ('katandre', 'NN'), ('failedfoodies', 'NNS')], [('tarah', 'NN'), ('w', 'NN'), ('threw', 'VBD'), ('bunch', 'JJ'), ('women', 'NNS'), ('bus', 'NN'), ('could', 'MD'), ('get', 'VB'), ('wadhwas', 'JJ'), ('support', 'NN'), ('women', 'NNS'), ('tech', 'VBP'), ('book', 'NN')], [('trust', 'NN'), ('adult', 'NN'), ('uses', 'VBZ'), ('coupons', 'NNS')], [('mkr', 'NN')], [('returns', 'NNS'), ('couples', 'VBZ'), ('intruders', 'NNS'), ('gate', 'JJ'), ('crashers', 'NNS'), ('secondchancers', 'NNS'), ('eliminated', 'VBD'), ('mkr', 'NN')], [('abuse', 'NN'), ('comes', 'VBZ'), ('gamergate', 'JJ'), ('accounts', 'NNS'), ('days', 'NNS'), ('old', 'JJ')], [('great', 'JJ'), ('see', 'VB'), ('local', 'JJ'), ('national', 'JJ'), ('park', 'NN'), ('workers', 'NNS'), ('tucking', 'VBG'), ('free', 'JJ'), ('feed', 'NN'), ('empty', 'JJ'), ('loos', 'NN'), ('instead', 'RB'), ('mkr', 'NN')]]\n"
     ]
    }
   ],
   "source": [
    "import nltk\n",
    "\n",
    "# download the necessary NLTK resources\n",
    "nltk.download('punkt')\n",
    "nltk.download('averaged_perceptron_tagger')\n",
    "\n",
    "# perform POS tagging on each sentence in head_lines\n",
    "pos_tagged_head_lines = []\n",
    "for text in head_lines:\n",
    "    pos_tagged_sentence = nltk.pos_tag(text)#function uses the Penn Treebank tagset by default\n",
    "    pos_tagged_head_lines.append(pos_tagged_sentence)\n",
    "\n",
    "print(pos_tagged_head_lines[0:10])\n",
    "#\"NN\" for singular nouns, \"VB\" for verbs, \"JJ\" for adjectives"
   ]
  },
  {
   "cell_type": "markdown",
   "metadata": {
    "id": "gZqxf7pF3qzQ"
   },
   "source": [
    "# Visualize the most occuring words"
   ]
  },
  {
   "cell_type": "code",
   "execution_count": 9,
   "metadata": {
    "colab": {
     "base_uri": "https://localhost:8080/",
     "height": 516
    },
    "execution": {
     "iopub.execute_input": "2023-04-27T19:30:58.686880Z",
     "iopub.status.busy": "2023-04-27T19:30:58.685790Z",
     "iopub.status.idle": "2023-04-27T19:31:00.028172Z",
     "shell.execute_reply": "2023-04-27T19:31:00.027278Z",
     "shell.execute_reply.started": "2023-04-27T19:30:58.686836Z"
    },
    "id": "G8JByh_R3qzQ",
    "outputId": "e2e15767-a64c-4529-ab0c-957b55473df5",
    "trusted": true
   },
   "outputs": [
    {
     "data": {
      "image/png": "[encoded data removed]",
      "text/plain": [
       "<Figure size 1200x600 with 1 Axes>"
      ]
     },
     "metadata": {},
     "output_type": "display_data"
    }
   ],
   "source": [
    "from collections import Counter\n",
    "import matplotlib.pyplot as plt\n",
    "\n",
    "pos_data = data.loc[data['sexist'] == True]\n",
    "pos_head_lines = CleanTokenize(pos_data)\n",
    "pos_lines = [j for sub in pos_head_lines for j in sub] \n",
    "word_could_dict=Counter(pos_lines)\n",
    "\n",
    "\n",
    "\n",
    "top_words = word_could_dict.most_common(20)\n",
    "words, counts = zip(*top_words)\n",
    "\n",
    "plt.figure(figsize=(12, 6))\n",
    "plt.bar(words, counts, color='skyblue')\n",
    "plt.xticks(rotation=45, ha='right')\n",
    "plt.xlabel('Words')\n",
    "plt.ylabel('Frequency')\n",
    "plt.title('Top 20 Words in Mysogynist Comments')\n",
    "plt.show()\n"
   ]
  },
  {
   "cell_type": "markdown",
   "metadata": {
    "id": "023tsTPi3qzQ"
   },
   "source": [
    "# Train-test split"
   ]
  },
  {
   "cell_type": "code",
   "execution_count": 10,
   "metadata": {
    "colab": {
     "base_uri": "https://localhost:8080/"
    },
    "execution": {
     "iopub.execute_input": "2023-04-27T19:31:00.033576Z",
     "iopub.status.busy": "2023-04-27T19:31:00.032281Z",
     "iopub.status.idle": "2023-04-27T19:31:00.262010Z",
     "shell.execute_reply": "2023-04-27T19:31:00.260812Z",
     "shell.execute_reply.started": "2023-04-27T19:31:00.033539Z"
    },
    "id": "Mn2tMkLG3qzQ",
    "outputId": "dd3a9af9-5875-404d-bbee-42c169131a3e",
    "trusted": true
   },
   "outputs": [
    {
     "name": "stdout",
     "output_type": "stream",
     "text": [
      "unique tokens -  13687\n",
      "vocab size - 13688\n"
     ]
    }
   ],
   "source": [
    "validation_split = 0.2\n",
    "max_length = 100\n",
    "\n",
    "\n",
    "tokenizer_obj = Tokenizer()\n",
    "tokenizer_obj.fit_on_texts(head_lines)\n",
    "sequences = tokenizer_obj.texts_to_sequences(head_lines)\n",
    "\n",
    "word_index = tokenizer_obj.word_index\n",
    "print(\"unique tokens - \",len(word_index))\n",
    "vocab_size = len(tokenizer_obj.word_index) + 1\n",
    "print('vocab size -', vocab_size)\n",
    "\n",
    "lines_pad = pad_sequences(sequences, maxlen=max_length, padding='post')\n",
    "sentiment =  data['sexist'].values\n",
    "\n",
    "indices = np.arange(lines_pad.shape[0])\n",
    "np.random.shuffle(indices)\n",
    "lines_pad = lines_pad[indices]\n",
    "sentiment = sentiment[indices]\n",
    "\n",
    "num_validation_samples = int(validation_split * lines_pad.shape[0])\n",
    "\n",
    "X_train_pad = lines_pad[:-num_validation_samples]\n",
    "y_train = sentiment[:-num_validation_samples]\n",
    "X_test_pad = lines_pad[-num_validation_samples:]\n",
    "y_test = sentiment[-num_validation_samples:]"
   ]
  },
  {
   "cell_type": "code",
   "execution_count": 11,
   "metadata": {
    "colab": {
     "base_uri": "https://localhost:8080/"
    },
    "execution": {
     "iopub.execute_input": "2023-04-27T19:31:00.265004Z",
     "iopub.status.busy": "2023-04-27T19:31:00.263490Z",
     "iopub.status.idle": "2023-04-27T19:31:00.272128Z",
     "shell.execute_reply": "2023-04-27T19:31:00.269723Z",
     "shell.execute_reply.started": "2023-04-27T19:31:00.264964Z"
    },
    "id": "QZ__G3QJ3qzQ",
    "outputId": "26c04961-5c80-47f1-d817-30b03698941c",
    "trusted": true
   },
   "outputs": [
    {
     "name": "stdout",
     "output_type": "stream",
     "text": [
      "Shape of X_train_pad: (10905, 100)\n",
      "Shape of y_train: (10905,)\n",
      "Shape of X_test_pad: (2726, 100)\n",
      "Shape of y_test: (2726,)\n"
     ]
    }
   ],
   "source": [
    "print('Shape of X_train_pad:', X_train_pad.shape)\n",
    "print('Shape of y_train:', y_train.shape)\n",
    "\n",
    "print('Shape of X_test_pad:', X_test_pad.shape)\n",
    "print('Shape of y_test:', y_test.shape)"
   ]
  },
  {
   "cell_type": "markdown",
   "metadata": {
    "id": "deI5mUSL3qzQ"
   },
   "source": [
    "# BERT model"
   ]
  },
  {
   "cell_type": "code",
   "execution_count": 12,
   "metadata": {},
   "outputs": [
    {
     "name": "stderr",
     "output_type": "stream",
     "text": [
      "c:\\Users\\91951\\AppData\\Local\\Programs\\Python\\Python311\\Lib\\site-packages\\tqdm\\auto.py:21: TqdmWarning: IProgress not found. Please update jupyter and ipywidgets. See https://ipywidgets.readthedocs.io/en/stable/user_install.html\n",
      "  from .autonotebook import tqdm as notebook_tqdm\n"
     ]
    },
    {
     "name": "stdout",
     "output_type": "stream",
     "text": [
      "BERT Model Accuracy: 91.05%\n"
     ]
    },
    {
     "name": "stderr",
     "output_type": "stream",
     "text": [
      "c:\\Users\\91951\\AppData\\Local\\Programs\\Python\\Python311\\Lib\\site-packages\\sklearn\\linear_model\\_logistic.py:469: ConvergenceWarning: lbfgs failed to converge (status=1):\n",
      "STOP: TOTAL NO. of ITERATIONS REACHED LIMIT.\n",
      "\n",
      "Increase the number of iterations (max_iter) or scale the data as shown in:\n",
      "    https://scikit-learn.org/stable/modules/preprocessing.html\n",
      "Please also refer to the documentation for alternative solver options:\n",
      "    https://scikit-learn.org/stable/modules/linear_model.html#logistic-regression\n",
      "  n_iter_i = _check_optimize_result(\n"
     ]
    }
   ],
   "source": [
    "import torch\n",
    "from transformers import BertTokenizer, BertModel\n",
    "from sklearn.linear_model import LogisticRegression\n",
    "from sklearn.metrics import accuracy_score\n",
    "import numpy as np\n",
    "from sklearn.model_selection import train_test_split\n",
    "\n",
    "\n",
    "texts = data[\"text\"]\n",
    "labels = data[\"sexist\"]  \n",
    "\n",
    "train_texts, test_texts, train_labels, test_labels = train_test_split(\n",
    "    texts, labels, test_size=0.20, random_state=42\n",
    ")\n",
    "\n",
    "\n",
    "tokenizer = BertTokenizer.from_pretrained('bert-base-uncased')\n",
    "model = BertModel.from_pretrained('bert-base-uncased')\n",
    "\n",
    "\n",
    "def get_bert_embeddings(text_list):\n",
    "    embeddings = []\n",
    "    for text in text_list:\n",
    "        inputs = tokenizer(text, return_tensors='pt', truncation=True, padding=True, max_length=128)\n",
    "        with torch.no_grad():\n",
    "            outputs = model(**inputs)\n",
    "        cls_embedding = outputs.last_hidden_state[:, 0, :].squeeze().numpy()  # CLS token\n",
    "        embeddings.append(cls_embedding)\n",
    "    return np.array(embeddings)\n",
    "\n",
    "X_train_bert = get_bert_embeddings(train_texts)\n",
    "X_test_bert = get_bert_embeddings(test_texts)\n",
    "\n",
    "lr_model = LogisticRegression()\n",
    "lr_model.fit(X_train_bert, train_labels) \n",
    "\n",
    "y_pred = lr_model.predict(X_test_bert)\n",
    "accuracy = accuracy_score(test_labels, y_pred) \n",
    "print('BERT Model Accuracy: {:.2f}%'.format(accuracy * 100))\n"
   ]
  },
  {
   "cell_type": "markdown",
   "metadata": {},
   "source": [
    "# GloVe model"
   ]
  },
  {
   "cell_type": "code",
   "execution_count": null,
   "metadata": {},
   "outputs": [],
   "source": [
    "embeddings_index = {}\n",
    "embedding_dim = 100\n",
    "with open(os.path.join(\"C:\\\\Users\\\\91951\\\\Downloads\\\\glove.twitter.27B.100d.txt\\\\glove.twitter.27B.100d.txt\"), encoding = \"utf-8\") as f:\n",
    "    for line in f:\n",
    "        values = line.split()\n",
    "        word = values[0]\n",
    "        coefs = np.asarray(values[1:], dtype='float32')\n",
    "        embeddings_index[word] = coefs\n",
    "\n",
    "print('Found %s word vectors.' % len(embeddings_index))"
   ]
  },
  {
   "cell_type": "markdown",
   "metadata": {},
   "source": [
    "# Extract features"
   ]
  },
  {
   "cell_type": "code",
   "execution_count": null,
   "metadata": {},
   "outputs": [],
   "source": [
    "import numpy as np\n",
    "\n",
    "# Define a function to extract features from a list of preprocessed text using the GloVe embeddings\n",
    "def extract_features(text, embeddings_index, embedding_dim):\n",
    "    # Initialize the feature vector with zeros\n",
    "    feature_vec = np.zeros((embedding_dim,))\n",
    "    # Initialize a counter for the number of words\n",
    "    n_words = 0\n",
    "    # Loop over each word in the text\n",
    "    for word in text:\n",
    "        # Check if the word is in the embeddings index\n",
    "        if word in embeddings_index:\n",
    "            # Add the word vector to the feature vector\n",
    "            feature_vec += embeddings_index[word]\n",
    "            # Increment the word counter\n",
    "            n_words += 1\n",
    "    # Divide the feature vector by the number of words to get the average\n",
    "    if n_words > 0:\n",
    "        feature_vec /= n_words\n",
    "    return feature_vec\n",
    "\n",
    "# Set the embedding dimension\n",
    "embedding_dim = 100\n",
    "\n",
    "# Apply the extract_features function to the 'text' column\n",
    "data['features'] = data['text'].apply(lambda text: extract_features(text.split(), embeddings_index, embedding_dim))\n",
    "print(data[\"features\"])"
   ]
  },
  {
   "cell_type": "markdown",
   "metadata": {},
   "source": [
    "# Build the embedding layer"
   ]
  },
  {
   "cell_type": "code",
   "execution_count": null,
   "metadata": {},
   "outputs": [],
   "source": [
    "embedding_matrix = np.zeros((len(word_index) + 1, embedding_dim))\n",
    "c = 0\n",
    "for word, i in word_index.items():\n",
    "    embedding_vector = embeddings_index.get(word)\n",
    "    if embedding_vector is not None:\n",
    "        c+=1\n",
    "        embedding_matrix[i] = embedding_vector\n",
    "print(c)"
   ]
  },
  {
   "cell_type": "code",
   "execution_count": null,
   "metadata": {},
   "outputs": [],
   "source": [
    "embedding_layer = Embedding(len(word_index) + 1,\n",
    "                            embedding_dim,\n",
    "                            weights=[embedding_matrix],\n",
    "                            input_length=max_length,\n",
    "                            trainable=False)"
   ]
  },
  {
   "cell_type": "markdown",
   "metadata": {
    "id": "KDdyIISh3i43"
   },
   "source": [
    "# Logistic Regression Model\n"
   ]
  },
  {
   "cell_type": "code",
   "execution_count": 19,
   "metadata": {
    "colab": {
     "base_uri": "https://localhost:8080/"
    },
    "execution": {
     "iopub.execute_input": "2023-04-27T19:31:30.154123Z",
     "iopub.status.busy": "2023-04-27T19:31:30.153445Z",
     "iopub.status.idle": "2023-04-27T19:31:30.437379Z",
     "shell.execute_reply": "2023-04-27T19:31:30.435952Z",
     "shell.execute_reply.started": "2023-04-27T19:31:30.154084Z"
    },
    "id": "5SzJveRJt0QO",
    "outputId": "d2d347a7-e86d-4350-9b71-5589d4a5651b",
    "trusted": true
   },
   "outputs": [
    {
     "name": "stdout",
     "output_type": "stream",
     "text": [
      "Accuracy: 86.21%\n"
     ]
    },
    {
     "name": "stderr",
     "output_type": "stream",
     "text": [
      "c:\\Users\\91951\\AppData\\Local\\Programs\\Python\\Python311\\Lib\\site-packages\\sklearn\\linear_model\\_logistic.py:469: ConvergenceWarning: lbfgs failed to converge (status=1):\n",
      "STOP: TOTAL NO. of ITERATIONS REACHED LIMIT.\n",
      "\n",
      "Increase the number of iterations (max_iter) or scale the data as shown in:\n",
      "    https://scikit-learn.org/stable/modules/preprocessing.html\n",
      "Please also refer to the documentation for alternative solver options:\n",
      "    https://scikit-learn.org/stable/modules/linear_model.html#logistic-regression\n",
      "  n_iter_i = _check_optimize_result(\n"
     ]
    }
   ],
   "source": [
    "from sklearn.linear_model import LogisticRegression\n",
    "from sklearn.metrics import accuracy_score\n",
    "\n",
    "# Initialize the logistic regression model\n",
    "lr_model = LogisticRegression()\n",
    "\n",
    "# Train the model on the training set\n",
    "lr_model.fit(X_train_pad, y_train)\n",
    "\n",
    "# Predict the labels for the test set\n",
    "y_pred = lr_model.predict(X_test_pad)\n",
    "\n",
    "# Evaluate the accuracy of the model\n",
    "accuracy = accuracy_score(y_test, y_pred)\n",
    "print('Accuracy: {:.2f}%'.format(accuracy*100))\n"
   ]
  },
  {
   "cell_type": "markdown",
   "metadata": {
    "id": "OLqvNR5xpReq"
   },
   "source": [
    "# Naive Bayes Model"
   ]
  },
  {
   "cell_type": "code",
   "execution_count": 14,
   "metadata": {
    "execution": {
     "iopub.execute_input": "2023-04-27T19:31:30.446434Z",
     "iopub.status.busy": "2023-04-27T19:31:30.442057Z",
     "iopub.status.idle": "2023-04-27T19:31:30.532580Z",
     "shell.execute_reply": "2023-04-27T19:31:30.530445Z",
     "shell.execute_reply.started": "2023-04-27T19:31:30.446364Z"
    },
    "trusted": true
   },
   "outputs": [],
   "source": [
    "df = pd.read_csv(\"C:\\\\Users\\\\91951\\\\Downloads\\\\Misogyny-Detection-main\\\\Misogyny-Detection-main\\\\sexism_data.csv\")"
   ]
  },
  {
   "cell_type": "code",
   "execution_count": 15,
   "metadata": {
    "execution": {
     "iopub.execute_input": "2023-04-27T19:31:30.551125Z",
     "iopub.status.busy": "2023-04-27T19:31:30.540926Z",
     "iopub.status.idle": "2023-04-27T19:31:30.571146Z",
     "shell.execute_reply": "2023-04-27T19:31:30.569913Z",
     "shell.execute_reply.started": "2023-04-27T19:31:30.551064Z"
    },
    "trusted": true
   },
   "outputs": [
    {
     "name": "stdout",
     "output_type": "stream",
     "text": [
      "   id dataset                                               text  toxicity  \\\n",
      "0   0   other  MENTION3481 i didn't even know random was an o...  0.118180   \n",
      "1   1   other                   Bottom two should've gone!  #mkr  0.251850   \n",
      "2   2  callme  MENTION3111 MENTION3424 ladyboner deserves so ...  0.113331   \n",
      "3   3   other  She shall now be known as Sourpuss #MKR #KatAn...  0.531153   \n",
      "4   4   other  Tarah W threw a bunch of women under the bus s...  0.118718   \n",
      "\n",
      "           sexist  of_id  \n",
      "0  Not misogynist     -1  \n",
      "1  Not misogynist     -1  \n",
      "2  Not misogynist     -1  \n",
      "3  Not misogynist     -1  \n",
      "4  Not misogynist     -1  \n"
     ]
    }
   ],
   "source": [
    "df[\"sexist\"] = df[\"sexist\"].map({False: \"Not misogynist\", True: \"is misogynist\"})\n",
    "\n",
    "print(df.head())"
   ]
  },
  {
   "cell_type": "code",
   "execution_count": 16,
   "metadata": {
    "execution": {
     "iopub.execute_input": "2023-04-27T19:31:30.574626Z",
     "iopub.status.busy": "2023-04-27T19:31:30.574356Z",
     "iopub.status.idle": "2023-04-27T19:31:30.807804Z",
     "shell.execute_reply": "2023-04-27T19:31:30.806804Z",
     "shell.execute_reply.started": "2023-04-27T19:31:30.574600Z"
    },
    "trusted": true
   },
   "outputs": [],
   "source": [
    "from sklearn.feature_extraction.text import CountVectorizer\n",
    "import pandas as pd\n",
    "import numpy as np\n",
    "from sklearn.feature_extraction.text import CountVectorizer\n",
    "from sklearn.model_selection import train_test_split\n",
    "from sklearn.naive_bayes import BernoulliNB\n",
    "df = df[[\"text\", \"sexist\"]]\n",
    "x = np.array(df[\"text\"])\n",
    "y = np.array(df[\"sexist\"])\n",
    "\n",
    "cv = CountVectorizer()\n",
    "X = cv.fit_transform(x) # Fit the Data\n",
    "X_trainNB, X_testNB, y_trainNB, y_testNB = train_test_split(X, y, test_size=0.60, random_state=30)"
   ]
  },
  {
   "cell_type": "code",
   "execution_count": 17,
   "metadata": {
    "execution": {
     "iopub.execute_input": "2023-04-27T19:31:30.810467Z",
     "iopub.status.busy": "2023-04-27T19:31:30.809298Z",
     "iopub.status.idle": "2023-04-27T19:31:30.845290Z",
     "shell.execute_reply": "2023-04-27T19:31:30.844119Z",
     "shell.execute_reply.started": "2023-04-27T19:31:30.810418Z"
    },
    "trusted": true
   },
   "outputs": [
    {
     "name": "stdout",
     "output_type": "stream",
     "text": [
      "0.8696662183641032\n"
     ]
    }
   ],
   "source": [
    "modelNB = BernoulliNB()\n",
    "modelNB.fit(X_trainNB, y_trainNB)\n",
    "print(modelNB.score(X_testNB, y_testNB))"
   ]
  },
  {
   "cell_type": "markdown",
   "metadata": {
    "id": "hRbS2lBW3qzR"
   },
   "source": [
    "# Build the RNN (Bidirectional LSTM)"
   ]
  },
  {
   "cell_type": "code",
   "execution_count": null,
   "metadata": {
    "colab": {
     "base_uri": "https://localhost:8080/"
    },
    "execution": {
     "iopub.execute_input": "2023-04-27T19:31:30.902274Z",
     "iopub.status.busy": "2023-04-27T19:31:30.901683Z",
     "iopub.status.idle": "2023-04-27T19:31:35.408353Z",
     "shell.execute_reply": "2023-04-27T19:31:35.407567Z",
     "shell.execute_reply.started": "2023-04-27T19:31:30.902237Z"
    },
    "id": "tBolGuPY3qzR",
    "outputId": "b270b8f2-74fe-4c03-c73e-1c875fbde3c3",
    "trusted": true
   },
   "outputs": [
    {
     "name": "stdout",
     "output_type": "stream",
     "text": [
      "Summary of the built model...\n"
     ]
    },
    {
     "data": {
      "text/html": [
       "<pre style=\"white-space:pre;overflow-x:auto;line-height:normal;font-family:Menlo,'DejaVu Sans Mono',consolas,'Courier New',monospace\"><span style=\"font-weight: bold\">Model: \"sequential\"</span>\n",
       "</pre>\n"
      ],
      "text/plain": [
       "\u001b[1mModel: \"sequential\"\u001b[0m\n"
      ]
     },
     "metadata": {},
     "output_type": "display_data"
    },
    {
     "data": {
      "text/html": [
       "<pre style=\"white-space:pre;overflow-x:auto;line-height:normal;font-family:Menlo,'DejaVu Sans Mono',consolas,'Courier New',monospace\">┏━━━━━━━━━━━━━━━━━━━━━━━━━━━━━━━━━┳━━━━━━━━━━━━━━━━━━━━━━━━┳━━━━━━━━━━━━━━━┓\n",
       "┃<span style=\"font-weight: bold\"> Layer (type)                    </span>┃<span style=\"font-weight: bold\"> Output Shape           </span>┃<span style=\"font-weight: bold\">       Param # </span>┃\n",
       "┡━━━━━━━━━━━━━━━━━━━━━━━━━━━━━━━━━╇━━━━━━━━━━━━━━━━━━━━━━━━╇━━━━━━━━━━━━━━━┩\n",
       "│ embedding (<span style=\"color: #0087ff; text-decoration-color: #0087ff\">Embedding</span>)           │ ?                      │     <span style=\"color: #00af00; text-decoration-color: #00af00\">1,368,800</span> │\n",
       "├─────────────────────────────────┼────────────────────────┼───────────────┤\n",
       "│ conv1d (<span style=\"color: #0087ff; text-decoration-color: #0087ff\">Conv1D</span>)                 │ ?                      │   <span style=\"color: #00af00; text-decoration-color: #00af00\">0</span> (unbuilt) │\n",
       "├─────────────────────────────────┼────────────────────────┼───────────────┤\n",
       "│ max_pooling1d (<span style=\"color: #0087ff; text-decoration-color: #0087ff\">MaxPooling1D</span>)    │ ?                      │             <span style=\"color: #00af00; text-decoration-color: #00af00\">0</span> │\n",
       "├─────────────────────────────────┼────────────────────────┼───────────────┤\n",
       "│ conv1d_1 (<span style=\"color: #0087ff; text-decoration-color: #0087ff\">Conv1D</span>)               │ ?                      │   <span style=\"color: #00af00; text-decoration-color: #00af00\">0</span> (unbuilt) │\n",
       "├─────────────────────────────────┼────────────────────────┼───────────────┤\n",
       "│ max_pooling1d_1 (<span style=\"color: #0087ff; text-decoration-color: #0087ff\">MaxPooling1D</span>)  │ ?                      │             <span style=\"color: #00af00; text-decoration-color: #00af00\">0</span> │\n",
       "├─────────────────────────────────┼────────────────────────┼───────────────┤\n",
       "│ conv1d_2 (<span style=\"color: #0087ff; text-decoration-color: #0087ff\">Conv1D</span>)               │ ?                      │   <span style=\"color: #00af00; text-decoration-color: #00af00\">0</span> (unbuilt) │\n",
       "├─────────────────────────────────┼────────────────────────┼───────────────┤\n",
       "│ max_pooling1d_2 (<span style=\"color: #0087ff; text-decoration-color: #0087ff\">MaxPooling1D</span>)  │ ?                      │             <span style=\"color: #00af00; text-decoration-color: #00af00\">0</span> │\n",
       "├─────────────────────────────────┼────────────────────────┼───────────────┤\n",
       "│ bidirectional (<span style=\"color: #0087ff; text-decoration-color: #0087ff\">Bidirectional</span>)   │ ?                      │   <span style=\"color: #00af00; text-decoration-color: #00af00\">0</span> (unbuilt) │\n",
       "├─────────────────────────────────┼────────────────────────┼───────────────┤\n",
       "│ dropout (<span style=\"color: #0087ff; text-decoration-color: #0087ff\">Dropout</span>)               │ ?                      │             <span style=\"color: #00af00; text-decoration-color: #00af00\">0</span> │\n",
       "├─────────────────────────────────┼────────────────────────┼───────────────┤\n",
       "│ dense (<span style=\"color: #0087ff; text-decoration-color: #0087ff\">Dense</span>)                   │ ?                      │   <span style=\"color: #00af00; text-decoration-color: #00af00\">0</span> (unbuilt) │\n",
       "├─────────────────────────────────┼────────────────────────┼───────────────┤\n",
       "│ dropout_1 (<span style=\"color: #0087ff; text-decoration-color: #0087ff\">Dropout</span>)             │ ?                      │             <span style=\"color: #00af00; text-decoration-color: #00af00\">0</span> │\n",
       "├─────────────────────────────────┼────────────────────────┼───────────────┤\n",
       "│ dense_1 (<span style=\"color: #0087ff; text-decoration-color: #0087ff\">Dense</span>)                 │ ?                      │   <span style=\"color: #00af00; text-decoration-color: #00af00\">0</span> (unbuilt) │\n",
       "└─────────────────────────────────┴────────────────────────┴───────────────┘\n",
       "</pre>\n"
      ],
      "text/plain": [
       "┏━━━━━━━━━━━━━━━━━━━━━━━━━━━━━━━━━┳━━━━━━━━━━━━━━━━━━━━━━━━┳━━━━━━━━━━━━━━━┓\n",
       "┃\u001b[1m \u001b[0m\u001b[1mLayer (type)                   \u001b[0m\u001b[1m \u001b[0m┃\u001b[1m \u001b[0m\u001b[1mOutput Shape          \u001b[0m\u001b[1m \u001b[0m┃\u001b[1m \u001b[0m\u001b[1m      Param #\u001b[0m\u001b[1m \u001b[0m┃\n",
       "┡━━━━━━━━━━━━━━━━━━━━━━━━━━━━━━━━━╇━━━━━━━━━━━━━━━━━━━━━━━━╇━━━━━━━━━━━━━━━┩\n",
       "│ embedding (\u001b[38;5;33mEmbedding\u001b[0m)           │ ?                      │     \u001b[38;5;34m1,368,800\u001b[0m │\n",
       "├─────────────────────────────────┼────────────────────────┼───────────────┤\n",
       "│ conv1d (\u001b[38;5;33mConv1D\u001b[0m)                 │ ?                      │   \u001b[38;5;34m0\u001b[0m (unbuilt) │\n",
       "├─────────────────────────────────┼────────────────────────┼───────────────┤\n",
       "│ max_pooling1d (\u001b[38;5;33mMaxPooling1D\u001b[0m)    │ ?                      │             \u001b[38;5;34m0\u001b[0m │\n",
       "├─────────────────────────────────┼────────────────────────┼───────────────┤\n",
       "│ conv1d_1 (\u001b[38;5;33mConv1D\u001b[0m)               │ ?                      │   \u001b[38;5;34m0\u001b[0m (unbuilt) │\n",
       "├─────────────────────────────────┼────────────────────────┼───────────────┤\n",
       "│ max_pooling1d_1 (\u001b[38;5;33mMaxPooling1D\u001b[0m)  │ ?                      │             \u001b[38;5;34m0\u001b[0m │\n",
       "├─────────────────────────────────┼────────────────────────┼───────────────┤\n",
       "│ conv1d_2 (\u001b[38;5;33mConv1D\u001b[0m)               │ ?                      │   \u001b[38;5;34m0\u001b[0m (unbuilt) │\n",
       "├─────────────────────────────────┼────────────────────────┼───────────────┤\n",
       "│ max_pooling1d_2 (\u001b[38;5;33mMaxPooling1D\u001b[0m)  │ ?                      │             \u001b[38;5;34m0\u001b[0m │\n",
       "├─────────────────────────────────┼────────────────────────┼───────────────┤\n",
       "│ bidirectional (\u001b[38;5;33mBidirectional\u001b[0m)   │ ?                      │   \u001b[38;5;34m0\u001b[0m (unbuilt) │\n",
       "├─────────────────────────────────┼────────────────────────┼───────────────┤\n",
       "│ dropout (\u001b[38;5;33mDropout\u001b[0m)               │ ?                      │             \u001b[38;5;34m0\u001b[0m │\n",
       "├─────────────────────────────────┼────────────────────────┼───────────────┤\n",
       "│ dense (\u001b[38;5;33mDense\u001b[0m)                   │ ?                      │   \u001b[38;5;34m0\u001b[0m (unbuilt) │\n",
       "├─────────────────────────────────┼────────────────────────┼───────────────┤\n",
       "│ dropout_1 (\u001b[38;5;33mDropout\u001b[0m)             │ ?                      │             \u001b[38;5;34m0\u001b[0m │\n",
       "├─────────────────────────────────┼────────────────────────┼───────────────┤\n",
       "│ dense_1 (\u001b[38;5;33mDense\u001b[0m)                 │ ?                      │   \u001b[38;5;34m0\u001b[0m (unbuilt) │\n",
       "└─────────────────────────────────┴────────────────────────┴───────────────┘\n"
      ]
     },
     "metadata": {},
     "output_type": "display_data"
    },
    {
     "data": {
      "text/html": [
       "<pre style=\"white-space:pre;overflow-x:auto;line-height:normal;font-family:Menlo,'DejaVu Sans Mono',consolas,'Courier New',monospace\"><span style=\"font-weight: bold\"> Total params: </span><span style=\"color: #00af00; text-decoration-color: #00af00\">1,368,800</span> (5.22 MB)\n",
       "</pre>\n"
      ],
      "text/plain": [
       "\u001b[1m Total params: \u001b[0m\u001b[38;5;34m1,368,800\u001b[0m (5.22 MB)\n"
      ]
     },
     "metadata": {},
     "output_type": "display_data"
    },
    {
     "data": {
      "text/html": [
       "<pre style=\"white-space:pre;overflow-x:auto;line-height:normal;font-family:Menlo,'DejaVu Sans Mono',consolas,'Courier New',monospace\"><span style=\"font-weight: bold\"> Trainable params: </span><span style=\"color: #00af00; text-decoration-color: #00af00\">0</span> (0.00 B)\n",
       "</pre>\n"
      ],
      "text/plain": [
       "\u001b[1m Trainable params: \u001b[0m\u001b[38;5;34m0\u001b[0m (0.00 B)\n"
      ]
     },
     "metadata": {},
     "output_type": "display_data"
    },
    {
     "data": {
      "text/html": [
       "<pre style=\"white-space:pre;overflow-x:auto;line-height:normal;font-family:Menlo,'DejaVu Sans Mono',consolas,'Courier New',monospace\"><span style=\"font-weight: bold\"> Non-trainable params: </span><span style=\"color: #00af00; text-decoration-color: #00af00\">1,368,800</span> (5.22 MB)\n",
       "</pre>\n"
      ],
      "text/plain": [
       "\u001b[1m Non-trainable params: \u001b[0m\u001b[38;5;34m1,368,800\u001b[0m (5.22 MB)\n"
      ]
     },
     "metadata": {},
     "output_type": "display_data"
    },
    {
     "name": "stdout",
     "output_type": "stream",
     "text": [
      "None\n"
     ]
    }
   ],
   "source": [
    "from tensorflow.keras.models import Sequential\n",
    "from tensorflow.keras.layers import Embedding, Conv1D, MaxPooling1D, Flatten, Dense, LSTM, Bidirectional, Dropout\n",
    "\n",
    "model = Sequential()\n",
    "model.add(embedding_layer)\n",
    "model.add(Conv1D(128, 5, activation='relu', padding='same'))\n",
    "model.add(MaxPooling1D(pool_size=2))\n",
    "model.add(Conv1D(64, 5, activation='relu', padding='same'))\n",
    "model.add(MaxPooling1D(pool_size=2))\n",
    "model.add(Conv1D(32, 5, activation='relu', padding='same'))\n",
    "model.add(MaxPooling1D(pool_size=2))\n",
    "model.add(Bidirectional(LSTM(128, dropout=0.2, recurrent_dropout=0.1)))\n",
    "model.add(Dropout(0.2))\n",
    "model.add(Dense(128, activation='relu'))\n",
    "model.add(Dropout(0.2))\n",
    "model.add(Dense(1, activation='sigmoid'))\n",
    "\n",
    "model.compile(loss='binary_crossentropy', optimizer='adam', metrics=['acc'])\n",
    "print('Summary of the built model...')\n",
    "print(model.summary())\n"
   ]
  },
  {
   "cell_type": "markdown",
   "metadata": {
    "id": "xhSPVSFL3qzR"
   },
   "source": [
    "## *Training*"
   ]
  },
  {
   "cell_type": "code",
   "execution_count": null,
   "metadata": {
    "colab": {
     "base_uri": "https://localhost:8080/"
    },
    "execution": {
     "iopub.execute_input": "2023-04-27T19:31:35.409812Z",
     "iopub.status.busy": "2023-04-27T19:31:35.409426Z",
     "iopub.status.idle": "2023-04-27T19:35:03.403000Z",
     "shell.execute_reply": "2023-04-27T19:35:03.401807Z",
     "shell.execute_reply.started": "2023-04-27T19:31:35.409771Z"
    },
    "id": "Pltk-RS63qzR",
    "outputId": "e2439b07-8c45-4131-edfc-2265e224bb9e",
    "trusted": true
   },
   "outputs": [
    {
     "name": "stdout",
     "output_type": "stream",
     "text": [
      "Epoch 1/15\n",
      "86/86 - 11s - 124ms/step - acc: 0.8584 - loss: 0.3717 - val_acc: 0.8672 - val_loss: 0.2674\n",
      "Epoch 2/15\n",
      "86/86 - 3s - 39ms/step - acc: 0.8838 - loss: 0.2485 - val_acc: 0.8958 - val_loss: 0.2427\n",
      "Epoch 3/15\n",
      "86/86 - 3s - 39ms/step - acc: 0.9080 - loss: 0.1977 - val_acc: 0.9068 - val_loss: 0.2151\n",
      "Epoch 4/15\n",
      "86/86 - 4s - 45ms/step - acc: 0.9344 - loss: 0.1485 - val_acc: 0.9028 - val_loss: 0.2247\n",
      "Epoch 5/15\n",
      "86/86 - 3s - 39ms/step - acc: 0.9585 - loss: 0.1050 - val_acc: 0.8999 - val_loss: 0.2539\n",
      "Epoch 6/15\n",
      "86/86 - 3s - 39ms/step - acc: 0.9696 - loss: 0.0815 - val_acc: 0.8962 - val_loss: 0.2842\n",
      "Epoch 7/15\n",
      "86/86 - 3s - 39ms/step - acc: 0.9821 - loss: 0.0558 - val_acc: 0.9002 - val_loss: 0.3610\n",
      "Epoch 8/15\n",
      "86/86 - 3s - 39ms/step - acc: 0.9833 - loss: 0.0503 - val_acc: 0.9072 - val_loss: 0.3836\n",
      "Epoch 9/15\n",
      "86/86 - 3s - 39ms/step - acc: 0.9896 - loss: 0.0366 - val_acc: 0.9032 - val_loss: 0.3395\n",
      "Epoch 10/15\n",
      "86/86 - 3s - 39ms/step - acc: 0.9895 - loss: 0.0354 - val_acc: 0.9098 - val_loss: 0.3532\n",
      "Epoch 11/15\n",
      "86/86 - 3s - 39ms/step - acc: 0.9903 - loss: 0.0310 - val_acc: 0.9039 - val_loss: 0.3447\n",
      "Epoch 12/15\n",
      "86/86 - 3s - 38ms/step - acc: 0.9922 - loss: 0.0257 - val_acc: 0.9054 - val_loss: 0.3937\n",
      "Epoch 13/15\n",
      "86/86 - 3s - 39ms/step - acc: 0.9933 - loss: 0.0202 - val_acc: 0.8984 - val_loss: 0.4652\n",
      "Epoch 14/15\n",
      "86/86 - 3s - 39ms/step - acc: 0.9918 - loss: 0.0215 - val_acc: 0.9006 - val_loss: 0.5359\n",
      "Epoch 15/15\n",
      "86/86 - 3s - 38ms/step - acc: 0.9932 - loss: 0.0200 - val_acc: 0.9010 - val_loss: 0.4771\n"
     ]
    }
   ],
   "source": [
    "history = model.fit(X_train_pad, y_train, batch_size=128, epochs=15, validation_data=(X_test_pad, y_test), verbose=2)\n"
   ]
  },
  {
   "cell_type": "code",
   "execution_count": null,
   "metadata": {
    "colab": {
     "base_uri": "https://localhost:8080/"
    },
    "execution": {
     "iopub.execute_input": "2023-04-27T19:35:03.405174Z",
     "iopub.status.busy": "2023-04-27T19:35:03.404856Z",
     "iopub.status.idle": "2023-04-27T19:35:03.411619Z",
     "shell.execute_reply": "2023-04-27T19:35:03.410564Z",
     "shell.execute_reply.started": "2023-04-27T19:35:03.405146Z"
    },
    "id": "Vu7fAKVq1xyC",
    "outputId": "f084ad42-4b03-444f-8cf8-8ecaf831b858",
    "trusted": true
   },
   "outputs": [
    {
     "name": "stdout",
     "output_type": "stream",
     "text": [
      "Epoch 1: training accuracy = 0.8584\n",
      "Epoch 2: training accuracy = 0.8838\n",
      "Epoch 3: training accuracy = 0.9080\n",
      "Epoch 4: training accuracy = 0.9344\n",
      "Epoch 5: training accuracy = 0.9585\n",
      "Epoch 6: training accuracy = 0.9696\n",
      "Epoch 7: training accuracy = 0.9821\n",
      "Epoch 8: training accuracy = 0.9833\n",
      "Epoch 9: training accuracy = 0.9896\n",
      "Epoch 10: training accuracy = 0.9895\n",
      "Epoch 11: training accuracy = 0.9903\n",
      "Epoch 12: training accuracy = 0.9922\n",
      "Epoch 13: training accuracy = 0.9933\n",
      "Epoch 14: training accuracy = 0.9918\n",
      "Epoch 15: training accuracy = 0.9932\n"
     ]
    }
   ],
   "source": [
    "for epoch, acc in enumerate(history.history['acc']):\n",
    "    print(\"Epoch {}: training accuracy = {:.4f}\".format(epoch+1, acc))"
   ]
  },
  {
   "cell_type": "code",
   "execution_count": null,
   "metadata": {
    "colab": {
     "base_uri": "https://localhost:8080/"
    },
    "execution": {
     "iopub.execute_input": "2023-04-27T19:35:03.413817Z",
     "iopub.status.busy": "2023-04-27T19:35:03.413178Z",
     "iopub.status.idle": "2023-04-27T19:35:04.471566Z",
     "shell.execute_reply": "2023-04-27T19:35:04.470459Z",
     "shell.execute_reply.started": "2023-04-27T19:35:03.413781Z"
    },
    "id": "kb7ZmcUA6i4u",
    "outputId": "7799ebea-7871-48ff-f971-cb1bf79c5c12",
    "trusted": true
   },
   "outputs": [
    {
     "name": "stdout",
     "output_type": "stream",
     "text": [
      "Test accuracy: 0.9009537696838379\n"
     ]
    }
   ],
   "source": [
    "# Evaluate the model on the test set\n",
    "test_loss, test_accuracy = model.evaluate(X_test_pad, y_test, verbose=0)\n",
    "\n",
    "# Print the test accuracy\n",
    "print('Test accuracy:', test_accuracy)\n"
   ]
  },
  {
   "cell_type": "markdown",
   "metadata": {
    "id": "32ZEiZkh3qzR"
   },
   "source": [
    "## *Visualize the learning*"
   ]
  },
  {
   "cell_type": "code",
   "execution_count": null,
   "metadata": {
    "colab": {
     "base_uri": "https://localhost:8080/",
     "height": 887
    },
    "execution": {
     "iopub.execute_input": "2023-04-27T19:35:04.473660Z",
     "iopub.status.busy": "2023-04-27T19:35:04.473279Z",
     "iopub.status.idle": "2023-04-27T19:35:04.930115Z",
     "shell.execute_reply": "2023-04-27T19:35:04.929029Z",
     "shell.execute_reply.started": "2023-04-27T19:35:04.473623Z"
    },
    "id": "MPte-9ub3qzR",
    "outputId": "5c9b8f0e-5b68-43da-f929-507ad8ef36bd",
    "trusted": true
   },
   "outputs": [
    {
     "data": {
      "image/png": "[encoded data removed]",
      "text/plain": [
       "<Figure size 640x480 with 1 Axes>"
      ]
     },
     "metadata": {},
     "output_type": "display_data"
    },
    {
     "data": {
      "image/png": "[encoded data removed]",
      "text/plain": [
       "<Figure size 640x480 with 1 Axes>"
      ]
     },
     "metadata": {},
     "output_type": "display_data"
    }
   ],
   "source": [
    "# Plot results\n",
    "acc = history.history['acc']\n",
    "val_acc = history.history['val_acc']\n",
    "loss = history.history['loss']\n",
    "val_loss = history.history['val_loss']\n",
    "\n",
    "epochs = range(1, len(acc)+1)\n",
    "\n",
    "plt.plot(epochs, acc, 'g', label='Training accuracy')\n",
    "plt.plot(epochs, val_acc, 'r', label='Validation accuracy')\n",
    "plt.title('Training and validation accuracy')\n",
    "plt.legend()\n",
    "\n",
    "plt.figure()\n",
    "\n",
    "plt.plot(epochs, loss, 'g', label='Training loss')\n",
    "plt.plot(epochs, val_loss, 'r', label='Validation loss')\n",
    "plt.title('Training and validation loss')\n",
    "plt.legend()\n",
    "\n",
    "plt.show()"
   ]
  },
  {
   "cell_type": "markdown",
   "metadata": {
    "id": "Z9oEhL0d3qzS"
   },
   "source": [
    "<hr>\n",
    "<h2><i>Can this model detect Misogyny?</i></h2>"
   ]
  },
  {
   "cell_type": "code",
   "execution_count": null,
   "metadata": {
    "execution": {
     "iopub.execute_input": "2023-04-27T19:35:04.933281Z",
     "iopub.status.busy": "2023-04-27T19:35:04.931586Z",
     "iopub.status.idle": "2023-04-27T19:35:04.940195Z",
     "shell.execute_reply": "2023-04-27T19:35:04.939202Z",
     "shell.execute_reply.started": "2023-04-27T19:35:04.933238Z"
    },
    "id": "yVwQCdrC3qzS",
    "trusted": true
   },
   "outputs": [],
   "source": [
    "def detect_misogyny(s):\n",
    "    x_final = pd.DataFrame({\"text\":[s]})\n",
    "    test_lines = CleanTokenize(x_final)\n",
    "    test_sequences = tokenizer_obj.texts_to_sequences(test_lines)\n",
    "    test_review_pad = pad_sequences(test_sequences, maxlen=max_length, padding='post')\n",
    "    y_pred =model.predict(test_review_pad)\n",
    "    y_pred*=100\n",
    "    if y_pred[0][0]>=87:\n",
    "        print(y_pred[0][0]) \n",
    "        return \"Misogynist\" \n",
    "    else: return \"Not misogynist\""
   ]
  },
  {
   "cell_type": "markdown",
   "metadata": {
    "id": "x1nwR70o3qzS"
   },
   "source": [
    "### *Correct guesses*"
   ]
  },
  {
   "cell_type": "code",
   "execution_count": null,
   "metadata": {
    "colab": {
     "base_uri": "https://localhost:8080/",
     "height": 70
    },
    "execution": {
     "iopub.execute_input": "2023-04-27T19:35:04.942424Z",
     "iopub.status.busy": "2023-04-27T19:35:04.941885Z",
     "iopub.status.idle": "2023-04-27T19:35:05.576768Z",
     "shell.execute_reply": "2023-04-27T19:35:05.575810Z",
     "shell.execute_reply.started": "2023-04-27T19:35:04.942383Z"
    },
    "id": "yZT8bAiH3qzS",
    "outputId": "cb2ca80d-f2b0-4eff-87d6-557cb66ae4c1",
    "trusted": true
   },
   "outputs": [
    {
     "name": "stdout",
     "output_type": "stream",
     "text": [
      "\u001b[1m1/1\u001b[0m \u001b[32m━━━━━━━━━━━━━━━━━━━━\u001b[0m\u001b[37m\u001b[0m \u001b[1m0s\u001b[0m 388ms/step\n",
      "97.88087\n"
     ]
    },
    {
     "data": {
      "text/plain": [
       "\"You're a misogynist\""
      ]
     },
     "execution_count": 44,
     "metadata": {},
     "output_type": "execute_result"
    }
   ],
   "source": [
    "detect_misogyny(\"Women belong in the kitchen.\")"
   ]
  },
  {
   "cell_type": "code",
   "execution_count": null,
   "metadata": {
    "colab": {
     "base_uri": "https://localhost:8080/",
     "height": 70
    },
    "execution": {
     "iopub.execute_input": "2023-04-27T19:35:05.584555Z",
     "iopub.status.busy": "2023-04-27T19:35:05.582503Z",
     "iopub.status.idle": "2023-04-27T19:35:05.656474Z",
     "shell.execute_reply": "2023-04-27T19:35:05.655578Z",
     "shell.execute_reply.started": "2023-04-27T19:35:05.584518Z"
    },
    "id": "K3jjDZQTw_ma",
    "outputId": "c7350d8c-ab4d-4f18-98bc-54a7f0d8c9a7",
    "trusted": true
   },
   "outputs": [
    {
     "name": "stdout",
     "output_type": "stream",
     "text": [
      "\u001b[1m1/1\u001b[0m \u001b[32m━━━━━━━━━━━━━━━━━━━━\u001b[0m\u001b[37m\u001b[0m \u001b[1m0s\u001b[0m 25ms/step\n",
      "94.94209\n"
     ]
    },
    {
     "data": {
      "text/plain": [
       "\"You're a misogynist\""
      ]
     },
     "execution_count": 45,
     "metadata": {},
     "output_type": "execute_result"
    }
   ],
   "source": [
    "detect_misogyny(\"If you still cook, do the dishes, or clean the house when your woman is around, you're the woman of the house. You should be answering miss.\")"
   ]
  },
  {
   "cell_type": "code",
   "execution_count": null,
   "metadata": {
    "colab": {
     "base_uri": "https://localhost:8080/",
     "height": 70
    },
    "execution": {
     "iopub.execute_input": "2023-04-27T19:35:05.729867Z",
     "iopub.status.busy": "2023-04-27T19:35:05.729039Z",
     "iopub.status.idle": "2023-04-27T19:35:05.799282Z",
     "shell.execute_reply": "2023-04-27T19:35:05.798224Z",
     "shell.execute_reply.started": "2023-04-27T19:35:05.729830Z"
    },
    "id": "s9grAL4v15tc",
    "outputId": "fd10d117-8db3-45ad-fac6-aaa8017ab626",
    "trusted": true
   },
   "outputs": [
    {
     "name": "stdout",
     "output_type": "stream",
     "text": [
      "\u001b[1m1/1\u001b[0m \u001b[32m━━━━━━━━━━━━━━━━━━━━\u001b[0m\u001b[37m\u001b[0m \u001b[1m0s\u001b[0m 23ms/step\n",
      "99.748146\n"
     ]
    },
    {
     "data": {
      "text/plain": [
       "\"You're a misogynist\""
      ]
     },
     "execution_count": 46,
     "metadata": {},
     "output_type": "execute_result"
    }
   ],
   "source": [
    "detect_misogyny(\"Women are too emotional to handle leadership roles.\")"
   ]
  },
  {
   "cell_type": "code",
   "execution_count": null,
   "metadata": {
    "colab": {
     "base_uri": "https://localhost:8080/",
     "height": 70
    },
    "execution": {
     "iopub.execute_input": "2023-04-27T19:35:05.800797Z",
     "iopub.status.busy": "2023-04-27T19:35:05.800502Z",
     "iopub.status.idle": "2023-04-27T19:35:05.870719Z",
     "shell.execute_reply": "2023-04-27T19:35:05.869637Z",
     "shell.execute_reply.started": "2023-04-27T19:35:05.800762Z"
    },
    "id": "-hO-ZDLN3BHs",
    "outputId": "88d0d30b-82fd-45e3-c8eb-2e46af5d0a46",
    "trusted": true
   },
   "outputs": [
    {
     "name": "stdout",
     "output_type": "stream",
     "text": [
      "\u001b[1m1/1\u001b[0m \u001b[32m━━━━━━━━━━━━━━━━━━━━\u001b[0m\u001b[37m\u001b[0m \u001b[1m0s\u001b[0m 25ms/step\n",
      "99.55438\n"
     ]
    },
    {
     "data": {
      "text/plain": [
       "\"You're a misogynist\""
      ]
     },
     "execution_count": 47,
     "metadata": {},
     "output_type": "execute_result"
    }
   ],
   "source": [
    "detect_misogyny(\"Girls shouldn’t be allowed to drive; they’re too distracted.\")"
   ]
  },
  {
   "cell_type": "code",
   "execution_count": null,
   "metadata": {
    "colab": {
     "base_uri": "https://localhost:8080/",
     "height": 53
    },
    "execution": {
     "iopub.execute_input": "2023-04-27T19:35:05.946024Z",
     "iopub.status.busy": "2023-04-27T19:35:05.945734Z",
     "iopub.status.idle": "2023-04-27T19:35:06.019251Z",
     "shell.execute_reply": "2023-04-27T19:35:06.018306Z",
     "shell.execute_reply.started": "2023-04-27T19:35:05.945997Z"
    },
    "id": "giB94ibbY0Px",
    "outputId": "3d898509-02e5-40db-90c2-46f3ff28d171",
    "trusted": true
   },
   "outputs": [
    {
     "name": "stdout",
     "output_type": "stream",
     "text": [
      "\u001b[1m1/1\u001b[0m \u001b[32m━━━━━━━━━━━━━━━━━━━━\u001b[0m\u001b[37m\u001b[0m \u001b[1m0s\u001b[0m 17ms/step\n",
      "98.98208\n"
     ]
    },
    {
     "data": {
      "text/plain": [
       "\"You're a misogynist\""
      ]
     },
     "execution_count": 49,
     "metadata": {},
     "output_type": "execute_result"
    }
   ],
   "source": [
    "detect_misogyny(\"boys will be boys\")\n"
   ]
  },
  {
   "cell_type": "code",
   "execution_count": null,
   "metadata": {
    "colab": {
     "base_uri": "https://localhost:8080/",
     "height": 53
    },
    "execution": {
     "iopub.execute_input": "2023-04-27T19:35:06.097629Z",
     "iopub.status.busy": "2023-04-27T19:35:06.097347Z",
     "iopub.status.idle": "2023-04-27T19:35:06.174701Z",
     "shell.execute_reply": "2023-04-27T19:35:06.173699Z",
     "shell.execute_reply.started": "2023-04-27T19:35:06.097602Z"
    },
    "id": "o0-pFi79anz3",
    "outputId": "e9177875-7194-4236-a72e-b2a4f4902127",
    "trusted": true
   },
   "outputs": [
    {
     "name": "stdout",
     "output_type": "stream",
     "text": [
      "\u001b[1m1/1\u001b[0m \u001b[32m━━━━━━━━━━━━━━━━━━━━\u001b[0m\u001b[37m\u001b[0m \u001b[1m0s\u001b[0m 21ms/step\n"
     ]
    },
    {
     "data": {
      "text/plain": [
       "\"You're good to go.\""
      ]
     },
     "execution_count": 51,
     "metadata": {},
     "output_type": "execute_result"
    }
   ],
   "source": [
    "detect_misogyny(\"you look extremely pretty tonight\")"
   ]
  },
  {
   "cell_type": "code",
   "execution_count": null,
   "metadata": {
    "colab": {
     "base_uri": "https://localhost:8080/",
     "height": 53
    },
    "execution": {
     "iopub.execute_input": "2023-04-27T19:35:06.176673Z",
     "iopub.status.busy": "2023-04-27T19:35:06.176332Z",
     "iopub.status.idle": "2023-04-27T19:35:06.253691Z",
     "shell.execute_reply": "2023-04-27T19:35:06.252766Z",
     "shell.execute_reply.started": "2023-04-27T19:35:06.176638Z"
    },
    "id": "SnCo07kGbOvb",
    "outputId": "e76dbf51-7c92-45a7-a96e-a29521a16553",
    "trusted": true
   },
   "outputs": [
    {
     "name": "stdout",
     "output_type": "stream",
     "text": [
      "\u001b[1m1/1\u001b[0m \u001b[32m━━━━━━━━━━━━━━━━━━━━\u001b[0m\u001b[37m\u001b[0m \u001b[1m0s\u001b[0m 28ms/step\n"
     ]
    },
    {
     "data": {
      "text/plain": [
       "\"You're good to go.\""
      ]
     },
     "execution_count": 52,
     "metadata": {},
     "output_type": "execute_result"
    }
   ],
   "source": [
    "detect_misogyny(\"She’s a talented engineer who’s great at problem-solving\")"
   ]
  }
 ],
 "metadata": {
  "colab": {
   "provenance": []
  },
  "kernelspec": {
   "display_name": "Python 3",
   "language": "python",
   "name": "python3"
  },
  "language_info": {
   "codemirror_mode": {
    "name": "ipython",
    "version": 3
   },
   "file_extension": ".py",
   "mimetype": "text/x-python",
   "name": "python",
   "nbconvert_exporter": "python",
   "pygments_lexer": "ipython3",
   "version": "3.11.3"
  },
  "vscode": {
   "interpreter": {
    "hash": "e7d4d1fdefab968d87dae697830712be305784682ed311731942beb8000e292d"
   }
  }
 },
 "nbformat": 4,
 "nbformat_minor": 4
}
